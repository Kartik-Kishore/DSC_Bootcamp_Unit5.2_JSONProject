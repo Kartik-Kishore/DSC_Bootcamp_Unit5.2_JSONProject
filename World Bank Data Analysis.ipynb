{
 "cells": [
  {
   "cell_type": "markdown",
   "metadata": {},
   "source": [
    "# WORLD BANK DATA ANALYSIS\n",
    "\n",
    "*For this project I am using the pandas and json libraries and the json_normalize function. In the code below, I import said libraries and function and also load the json file both as a string and as a dataframe* "
   ]
  },
  {
   "cell_type": "code",
   "execution_count": 1,
   "metadata": {},
   "outputs": [],
   "source": [
    "import pandas as pd\n",
    "import json\n",
    "from pandas.io.json import json_normalize \n",
    "\n",
    "### load file into json object for later use with json.normalize in part 2 and 3\n",
    "with open('data_wrangling_json/data/world_bank_projects.json') as json_file:\n",
    "    json_data=json.load(json_file)\n",
    "    \n",
    "### load file into dataframe object for use in part 1 and 3\n",
    "df=pd.DataFrame(json_data)\n"
   ]
  },
  {
   "cell_type": "markdown",
   "metadata": {},
   "source": [
    "## PART 1"
   ]
  },
  {
   "cell_type": "markdown",
   "metadata": {},
   "source": [
    "*To find the 10 countries with the most projects we can simply groupby countryname and count the number of rows in each group (country)*"
   ]
  },
  {
   "cell_type": "code",
   "execution_count": 2,
   "metadata": {},
   "outputs": [
    {
     "name": "stdout",
     "output_type": "stream",
     "text": [
      "countryname\n",
      "People's Republic of China         19\n",
      "Republic of Indonesia              19\n",
      "Socialist Republic of Vietnam      17\n",
      "Republic of India                  16\n",
      "Republic of Yemen                  13\n",
      "People's Republic of Bangladesh    12\n",
      "Nepal                              12\n",
      "Kingdom of Morocco                 12\n",
      "Republic of Mozambique             11\n",
      "Africa                             11\n",
      "Name: id, dtype: int64\n"
     ]
    }
   ],
   "source": [
    "df_srt1=df.groupby('countryname').count() #grouping by countryname and counting number of rows  \n",
    "\n",
    "df_srt1=df_srt1.sort_values(ascending=False,by='id') # putting in descending order\n",
    "\n",
    "print(df_srt1['id'].head(10))"
   ]
  },
  {
   "cell_type": "markdown",
   "metadata": {},
   "source": [
    "\n",
    "*As you can see on the last row, Africa is counted as a country. The next code block drops that row so that the output makes more sense.*\n"
   ]
  },
  {
   "cell_type": "code",
   "execution_count": 3,
   "metadata": {},
   "outputs": [
    {
     "data": {
      "text/plain": [
       "countryname\n",
       "People's Republic of China         19\n",
       "Republic of Indonesia              19\n",
       "Socialist Republic of Vietnam      17\n",
       "Republic of India                  16\n",
       "Republic of Yemen                  13\n",
       "People's Republic of Bangladesh    12\n",
       "Nepal                              12\n",
       "Kingdom of Morocco                 12\n",
       "Republic of Mozambique             11\n",
       "Burkina Faso                        9\n",
       "Name: id, dtype: int64"
      ]
     },
     "execution_count": 3,
     "metadata": {},
     "output_type": "execute_result"
    }
   ],
   "source": [
    "df_srt1.drop('Africa',inplace=True) #dropping rows with Africa\n",
    "\n",
    "df_srt1['id'].head(10)"
   ]
  },
  {
   "cell_type": "markdown",
   "metadata": {},
   "source": [
    "##                                                                  PART 2"
   ]
  },
  {
   "cell_type": "markdown",
   "metadata": {},
   "source": [
    "*To list the top 10 themes, I create a dataframe called 'theme_codes' that returns a dataframe with only the theme names and theme codes for each project. In the dataframe, I also include the 'id' column so that values in the theme code and name columns are preserved.*\n",
    "\n",
    "*I can then groupby 'theme code' and 'theme name', creating a two level index dataframe, aggregate by count and sort the values by id as before in part 1.*\n",
    "\n",
    "**Note:** *This process does not count all the rows with the same themecode. This is because for rows of a given themecode, the groupby method seperates rows with unfilled theme names from rows with filled theme names. This does not seem to effect the order of the themes with the most projects, as can be verified uncommenting the second code block of this part*"
   ]
  },
  {
   "cell_type": "code",
   "execution_count": 4,
   "metadata": {},
   "outputs": [
    {
     "name": "stdout",
     "output_type": "stream",
     "text": [
      "                                                         # of projects\n",
      "theme code theme name                                                 \n",
      "11         Environment and natural resources management            223\n",
      "10         Rural development                                       202\n",
      "8          Human development                                       197\n",
      "2          Public sector governance                                184\n",
      "6          Social protection and risk management                   158\n",
      "4          Financial and private sector development                130\n",
      "7          Social dev/gender/inclusion                             119\n",
      "5          Trade and integration                                    72\n",
      "9          Urban development                                        47\n",
      "1          Economic management                                      33\n"
     ]
    }
   ],
   "source": [
    "theme_codes=json_normalize(json_data,'mjtheme_namecode','id')# creating dataframe from json string with theme_code, theme name, and id\n",
    "\n",
    "theme_codes.columns=['theme code','theme name','id']\n",
    "\n",
    "theme_codes_srt=theme_codes.groupby(['theme code','theme name']).count().sort_values(by='id',ascending=False)# grouping, counting and sorting\n",
    "\n",
    "theme_codes_srt.columns=['# of projects']\n",
    "\n",
    "print(theme_codes_srt.head(10))"
   ]
  },
  {
   "cell_type": "markdown",
   "metadata": {},
   "source": [
    "*Uncomment the code below to verify that grouping without the unfilled theme names still produces the same order*"
   ]
  },
  {
   "cell_type": "code",
   "execution_count": 5,
   "metadata": {},
   "outputs": [
    {
     "name": "stdout",
     "output_type": "stream",
     "text": [
      "theme code\n",
      "11    250\n",
      "10    216\n",
      "8     210\n",
      "2     199\n",
      "6     168\n",
      "4     146\n",
      "7     130\n",
      "5      77\n",
      "9      50\n",
      "1      38\n",
      "Name: id, dtype: int64\n"
     ]
    }
   ],
   "source": [
    "#theme_codes_srt_with_unfilled=theme_codes.groupby(['theme code']).count().sort_values(by='id',ascending=False)\n",
    "#print(theme_codes_srt_with_unfilled.id.head(10))"
   ]
  },
  {
   "cell_type": "markdown",
   "metadata": {},
   "source": [
    "##                                                                  PART 3"
   ]
  },
  {
   "cell_type": "markdown",
   "metadata": {},
   "source": [
    "*To fill in the missing theme names, I drop the rows with blank 'theme name' indicies and use the resulting dataframe's Index attribute to create a look up dictionary with keys of themecodes and values of their corresponding theme names. I then create a function to replace each cell of mjtheme with the name corresponding to its themecode *"
   ]
  },
  {
   "cell_type": "code",
   "execution_count": 6,
   "metadata": {},
   "outputs": [
    {
     "name": "stdout",
     "output_type": "stream",
     "text": [
      "0      [Human development, Environment and natural re...\n",
      "1      [Economic management, Social protection and ri...\n",
      "2      [Trade and integration, Public sector governan...\n",
      "3      [Social dev/gender/inclusion, Social dev/gende...\n",
      "4      [Trade and integration, Financial and private ...\n",
      "5      [Social protection and risk management, Social...\n",
      "6      [Public sector governance, Financial and priva...\n",
      "7      [Environment and natural resources management,...\n",
      "8       [Rural development, Social dev/gender/inclusion]\n",
      "9      [Public sector governance, Public sector gover...\n",
      "10         [Rural development, Public sector governance]\n",
      "11     [Rural development, Social protection and risk...\n",
      "12            [Financial and private sector development]\n",
      "13     [Trade and integration, Environment and natura...\n",
      "14     [Social protection and risk management, Social...\n",
      "15     [Rural development, Environment and natural re...\n",
      "16         [Rural development, Public sector governance]\n",
      "17      [Human development, Social dev/gender/inclusion]\n",
      "18     [Human development, Human development, Public ...\n",
      "19     [Public sector governance, Public sector gover...\n",
      "20     [Social dev/gender/inclusion, Social dev/gende...\n",
      "21      [Urban development, Social dev/gender/inclusion]\n",
      "22     [Social dev/gender/inclusion, Social dev/gende...\n",
      "23                [Human development, Human development]\n",
      "24     [Rural development, Rural development, Rural d...\n",
      "25     [Environment and natural resources management,...\n",
      "26     [Financial and private sector development, Tra...\n",
      "27     [Environment and natural resources management,...\n",
      "28     [Rural development, Rural development, Social ...\n",
      "29     [Social dev/gender/inclusion, Environment and ...\n",
      "                             ...                        \n",
      "470           [Trade and integration, Rural development]\n",
      "471    [Rural development, Social dev/gender/inclusio...\n",
      "472    [Environment and natural resources management,...\n",
      "473    [Environment and natural resources management,...\n",
      "474               [Urban development, Urban development]\n",
      "475    [Financial and private sector development, Urb...\n",
      "476               [Rural development, Human development]\n",
      "477    [Financial and private sector development, Rur...\n",
      "478    [Public sector governance, Rule of law, Enviro...\n",
      "479    [Social dev/gender/inclusion, Economic managem...\n",
      "480    [Public sector governance, Environment and nat...\n",
      "481    [Human development, Social dev/gender/inclusio...\n",
      "482    [Rural development, Environment and natural re...\n",
      "483    [Environment and natural resources management,...\n",
      "484    [Rural development, Financial and private sect...\n",
      "485    [Human development, Financial and private sect...\n",
      "486    [Public sector governance, Social protection a...\n",
      "487    [Environment and natural resources management,...\n",
      "488    [Human development, Public sector governance, ...\n",
      "489    [Urban development, Social protection and risk...\n",
      "490    [Public sector governance, Public sector gover...\n",
      "491    [Rural development, Environment and natural re...\n",
      "492     [Human development, Social dev/gender/inclusion]\n",
      "493    [Environment and natural resources management,...\n",
      "494    [Social protection and risk management, Human ...\n",
      "495    [Financial and private sector development, Soc...\n",
      "496    [Human development, Trade and integration, Pub...\n",
      "497    [Rural development, Social protection and risk...\n",
      "498    [Rural development, Rural development, Rural d...\n",
      "499    [Urban development, Human development, Trade a...\n",
      "Name: mjtheme, Length: 500, dtype: object\n"
     ]
    }
   ],
   "source": [
    "theme_codes_srt=theme_codes_srt.drop('',level=1)# dropping blank theme names from theme_codes_srt\n",
    "\n",
    "cds2nms= dict(list(theme_codes_srt.index.values))# creating dict of themecodes to themenames \n",
    "\n",
    "def fill_missing_names(list_dict):\n",
    "### Takes a cell of mjtheme_namecode which contains a list of dicts of themecode: themename key:value pairs...\n",
    "  # that are associated with each project and returns a list of theme names that can be set as the corresponding...   \n",
    "  # mjtheme cell's value \n",
    "###\n",
    "    \n",
    "    \n",
    "    list_names=[] #empty list to be appended to and returned\n",
    "    \n",
    "    for name_code_dict in list_dict:\n",
    "    ## This for loop iterates over each dict in the list of dicts that makes up each cell of mjtheme_namecode...\n",
    "     # and appends to list_names the theme name corresponding to the themecode key of each dict using the cds2nms...\n",
    "     # dict created above\n",
    "    ##\n",
    "    \n",
    "        list_names.append(cds2nms[name_code_dict['code']]) #appending theme name to list\n",
    "        \n",
    "    return list_names\n",
    "\n",
    "\n",
    "df.mjtheme=df.mjtheme_namecode.apply(fill_missing_names)# applying function\n",
    "\n",
    "print(df.mjtheme)"
   ]
  },
  {
   "cell_type": "code",
   "execution_count": null,
   "metadata": {},
   "outputs": [],
   "source": []
  }
 ],
 "metadata": {
  "kernelspec": {
   "display_name": "Python 3",
   "language": "python",
   "name": "python3"
  },
  "language_info": {
   "codemirror_mode": {
    "name": "ipython",
    "version": 3
   },
   "file_extension": ".py",
   "mimetype": "text/x-python",
   "name": "python",
   "nbconvert_exporter": "python",
   "pygments_lexer": "ipython3",
   "version": "3.7.3"
  }
 },
 "nbformat": 4,
 "nbformat_minor": 2
}
